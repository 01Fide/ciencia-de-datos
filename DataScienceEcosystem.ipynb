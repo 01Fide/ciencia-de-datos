{
 "cells": [
  {
   "cell_type": "markdown",
   "id": "7c3e0888-8b65-450e-a1af-068656436106",
   "metadata": {},
   "source": [
    "# Data Science Tools and Ecosystem"
   ]
  },
  {
   "cell_type": "markdown",
   "id": "87fd54e0-94ab-4955-945f-598283ce5751",
   "metadata": {},
   "source": [
    "In this notebook, Data Science Tools and Ecosystem are summarized."
   ]
  },
  {
   "cell_type": "markdown",
   "id": "cc237299-3016-45d8-93e5-d4f084d37203",
   "metadata": {},
   "source": [
    "**Objectives:**\n",
    "\n",
    "- List popular languages for Data Science\n",
    "- Identify commonly used libraries in Data Science\n",
    "- Describe open-source tools used in Data Science\n",
    "- Provide examples of arithmetic expressions in Python\n",
    "- Convert units within Python (e.g., minutes to hours)"
   ]
  },
  {
   "cell_type": "markdown",
   "id": "87240cd9-0274-4131-b5fe-93a9839976d9",
   "metadata": {},
   "source": [
    "Some of the popular languages that Data Scientists use are:\n",
    "\n",
    "1. Python\n",
    "2. R\n",
    "3. SQL\n",
    "4. Julia\n",
    "5. Scala"
   ]
  },
  {
   "cell_type": "markdown",
   "id": "504a4401-3391-476c-b60e-1d44a79b144f",
   "metadata": {},
   "source": [
    "Some of the commonly used libraries used by Data Scientists include:\n",
    "\n",
    "1. NumPy\n",
    "2. Pandas\n",
    "3. Matplotlib\n",
    "4. Scikit-learn\n",
    "5. TensorFlow"
   ]
  },
  {
   "cell_type": "markdown",
   "id": "db5c4ab3-36eb-451c-8169-b11a52dabe61",
   "metadata": {},
   "source": [
    "| Data Science Tools          |\n",
    "|-----------------------------|\n",
    "| Jupyter Notebook            |\n",
    "| RStudio                     |\n",
    "| Apache Zeppelin             |"
   ]
  },
  {
   "cell_type": "markdown",
   "id": "0f0003b2-b644-4394-af0e-c278b13304c9",
   "metadata": {},
   "source": [
    "### Below are a few examples of evaluating arithmetic expressions in Python\n",
    "\n",
    "- `3 + 5` results in `8`\n",
    "- `10 - 4` results in `6`\n",
    "- `2 * 7` results in `14`\n",
    "- `16 / 4` results in `4.0`"
   ]
  },
  {
   "cell_type": "code",
   "execution_count": 2,
   "id": "e5272c3e-58e8-4ce6-a5fd-e575c06eea6a",
   "metadata": {},
   "outputs": [
    {
     "data": {
      "text/plain": [
       "3.3333333333333335"
      ]
     },
     "execution_count": 2,
     "metadata": {},
     "output_type": "execute_result"
    }
   ],
   "source": [
    "# This will convert 200 minutes to hours by dividing by 60\n",
    "hours = 200 / 60\n",
    "hours"
   ]
  },
  {
   "cell_type": "markdown",
   "id": "9e21d473-fe2e-4295-97d2-8f536208fc78",
   "metadata": {},
   "source": [
    "## Author\n",
    "\n",
    "Fidelia Merino"
   ]
  },
  {
   "cell_type": "code",
   "execution_count": null,
   "id": "abdd9131-7d77-431f-a649-2cf962d85250",
   "metadata": {},
   "outputs": [],
   "source": []
  }
 ],
 "metadata": {
  "kernelspec": {
   "display_name": "Python 3 (ipykernel)",
   "language": "python",
   "name": "python3"
  },
  "language_info": {
   "codemirror_mode": {
    "name": "ipython",
    "version": 3
   },
   "file_extension": ".py",
   "mimetype": "text/x-python",
   "name": "python",
   "nbconvert_exporter": "python",
   "pygments_lexer": "ipython3",
   "version": "3.11.7"
  }
 },
 "nbformat": 4,
 "nbformat_minor": 5
}
